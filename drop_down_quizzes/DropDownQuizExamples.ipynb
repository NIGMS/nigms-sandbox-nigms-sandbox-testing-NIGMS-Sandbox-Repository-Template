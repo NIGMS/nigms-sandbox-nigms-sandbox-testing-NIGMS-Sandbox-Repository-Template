{
 "cells": [
  {
   "cell_type": "code",
   "execution_count": null,
   "id": "d31bd130-7b19-478c-a186-1bf5d55eac1f",
   "metadata": {},
   "outputs": [],
   "source": [
    "#install the required packages\n",
    "import requests\n",
    "import json\n",
    "import ipywidgets as widgets\n",
    "from IPython.display import display\n",
    "import random\n",
    "print(\"done installing required packages\")\n",
    "\n",
    "#install the module quiz_module.py\n",
    "##from quiz_module import run_quiz\n",
    "from quiz_module import run_quiz\n",
    "print(\"done installing quiz_module\")"
   ]
  },
  {
   "cell_type": "markdown",
   "id": "922cfc55-9219-4fb2-ad8f-8d07c578a5ab",
   "metadata": {},
   "source": [
    "<div class=\"alert alert-block alert-info\">\n",
    "    <b>Use the dropdown menu to make appropriate matches</b>\n",
    "    </div>"
   ]
  },
  {
   "cell_type": "code",
   "execution_count": null,
   "id": "6b4c601f-7e56-4fce-ae51-20ec4fd6e582",
   "metadata": {},
   "outputs": [],
   "source": [
    "#This randomizes the order of the possible answers.\n",
    "##import_type should be one of two str values: 'json' or 'url'\n",
    "##import_path here defines the json filepath\n",
    "run_quiz(import_type=\"json\", import_path=\"questions/TestingExample.json\", instant_feedback=False, shuffle_questions=False, shuffle_answers=True)"
   ]
  },
  {
   "cell_type": "code",
   "execution_count": null,
   "id": "095d4bcd-2f3b-4d9b-96ef-a03f86865056",
   "metadata": {},
   "outputs": [],
   "source": [
    "#By changing the parameters, you can have it provide instant feedback and/or randomize the question order.\n",
    "##import_type should be one of two str values: 'json' or 'url'\n",
    "##import_path here defines the json filepath\n",
    "run_quiz(import_type=\"json\", import_path=\"questions/TestingExample.json\", instant_feedback=True, shuffle_questions=True, shuffle_answers=True)"
   ]
  },
  {
   "cell_type": "code",
   "execution_count": null,
   "id": "374550dc-6bf9-49c8-ad65-6500ef64e320",
   "metadata": {},
   "outputs": [],
   "source": [
    "#Here we are importing the raw json file from the github repo.\n",
    "##import_path here defines the URL to access the json quiz file on github\n",
    "run_quiz(import_type='url', import_path=\"https://raw.githubusercontent.com/JRowleyLab/JupyterDropDownQuizzes/main/questions/TestingExample.json\", instant_feedback=True, shuffle_questions=True, shuffle_answers=True)"
   ]
  }
 ],
 "metadata": {},
 "nbformat": 4,
 "nbformat_minor": 5
}
